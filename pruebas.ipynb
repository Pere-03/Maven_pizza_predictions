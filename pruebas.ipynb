{
 "cells": [
  {
   "cell_type": "code",
   "execution_count": 127,
   "metadata": {},
   "outputs": [],
   "source": [
    "import pandas as pd\n",
    "FICHEROS_CSV = [\n",
    "            'data_dictionary', 'order_details',\n",
    "            'orders', 'pizza_types', 'pizzas']"
   ]
  },
  {
   "cell_type": "code",
   "execution_count": 128,
   "metadata": {},
   "outputs": [],
   "source": [
    "i = 3\n",
    "\n",
    "df = pd.read_csv(FICHEROS_CSV[i] + '.csv', sep=',', encoding = 'cp1252')\n",
    "string = df.dtypes.to_string()\n",
    "mensaje = '\\nEl fichero ' + FICHEROS_CSV[i]\n",
    "mensaje += '.csv contiene las siguientes columnas:\\n'\n",
    "mensaje += '\\n' + string +'\\n'\n",
    "file = open('analisis_datos.txt', 'w')\n",
    "file.write(mensaje)\n",
    "file.close()"
   ]
  },
  {
   "cell_type": "code",
   "execution_count": 129,
   "metadata": {},
   "outputs": [
    {
     "name": "stdout",
     "output_type": "stream",
     "text": [
      "{'pizza_type_id': 'object', 'name': 'object', 'category': 'object', 'ingredients': 'object'}\n",
      "{'pizza_types.csv': {'pizza_type_id': 'object', 'name': 'object', 'category': 'object', 'ingredients': 'object'}}\n"
     ]
    },
    {
     "data": {
      "text/html": [
       "<div>\n",
       "<style scoped>\n",
       "    .dataframe tbody tr th:only-of-type {\n",
       "        vertical-align: middle;\n",
       "    }\n",
       "\n",
       "    .dataframe tbody tr th {\n",
       "        vertical-align: top;\n",
       "    }\n",
       "\n",
       "    .dataframe thead th {\n",
       "        text-align: right;\n",
       "    }\n",
       "</style>\n",
       "<table border=\"1\" class=\"dataframe\">\n",
       "  <thead>\n",
       "    <tr style=\"text-align: right;\">\n",
       "      <th></th>\n",
       "      <th>pizza_types.csv</th>\n",
       "    </tr>\n",
       "  </thead>\n",
       "  <tbody>\n",
       "    <tr>\n",
       "      <th>category</th>\n",
       "      <td>object</td>\n",
       "    </tr>\n",
       "    <tr>\n",
       "      <th>ingredients</th>\n",
       "      <td>object</td>\n",
       "    </tr>\n",
       "    <tr>\n",
       "      <th>name</th>\n",
       "      <td>object</td>\n",
       "    </tr>\n",
       "    <tr>\n",
       "      <th>pizza_type_id</th>\n",
       "      <td>object</td>\n",
       "    </tr>\n",
       "  </tbody>\n",
       "</table>\n",
       "</div>"
      ],
      "text/plain": [
       "              pizza_types.csv\n",
       "category               object\n",
       "ingredients            object\n",
       "name                   object\n",
       "pizza_type_id          object"
      ]
     },
     "execution_count": 129,
     "metadata": {},
     "output_type": "execute_result"
    }
   ],
   "source": [
    "string = df.dtypes.to_dict()\n",
    "for key in string.keys():\n",
    "    string[key] = str(string[key])\n",
    "print(string)\n",
    "dicc = {FICHEROS_CSV[i] + '.csv':string}\n",
    "print(dicc)\n",
    "df2 = pd.DataFrame(dicc)\n",
    "df2"
   ]
  },
  {
   "cell_type": "code",
   "execution_count": 130,
   "metadata": {},
   "outputs": [],
   "source": [
    "file = open('analisis_datos.txt', 'w')\n",
    "file.close()\n",
    "\n",
    "for archivo in FICHEROS_CSV:\n",
    "\n",
    "    df = pd.read_csv(archivo + '.csv', sep=',', encoding = 'cp1252')\n",
    "\n",
    "    mensaje = '\\nEl fichero ' + archivo\n",
    "    mensaje += '.csv contiene las siguientes columnas:\\n\\n'\n",
    "\n",
    "    for colum in df.columns:\n",
    "        tmp = colum\n",
    "        tmp += '    ' + str(df[colum].dtype)\n",
    "        tmp += '    Valores Null/Nan = ' + str(df[colum].isnull().sum())\n",
    "        mensaje += tmp + '\\n'\n",
    "\n",
    "    file = open('analisis_datos.txt', 'a')\n",
    "    file.write(mensaje)\n",
    "    file.close()\n"
   ]
  },
  {
   "cell_type": "code",
   "execution_count": null,
   "metadata": {},
   "outputs": [],
   "source": []
  }
 ],
 "metadata": {
  "kernelspec": {
   "display_name": "Python 3.9.13 64-bit (microsoft store)",
   "language": "python",
   "name": "python3"
  },
  "language_info": {
   "codemirror_mode": {
    "name": "ipython",
    "version": 3
   },
   "file_extension": ".py",
   "mimetype": "text/x-python",
   "name": "python",
   "nbconvert_exporter": "python",
   "pygments_lexer": "ipython3",
   "version": "3.9.13"
  },
  "orig_nbformat": 4,
  "vscode": {
   "interpreter": {
    "hash": "4917b8339b40575c3b201d5fbf10de1f9488127cc846ffa4aa8ba3666a97ad92"
   }
  }
 },
 "nbformat": 4,
 "nbformat_minor": 2
}
